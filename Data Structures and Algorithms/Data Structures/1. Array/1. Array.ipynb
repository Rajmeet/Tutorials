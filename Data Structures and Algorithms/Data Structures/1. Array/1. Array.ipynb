{
 "cells": [
  {
   "cell_type": "markdown",
   "metadata": {},
   "source": [
    "# Array\n",
    "\n",
    "An Array is a collection of items stored at some memory locations. The idea is to store multiple items of the same type together. In Python, Arrays usually come under the category of a List. "
   ]
  },
  {
   "cell_type": "markdown",
   "metadata": {},
   "source": [
    "### Syntax\n",
    "To initialise a list we use the keyword ``` list ``` or use the empty brackets ``` [] ``` <br>\n",
    "The string values are inserted with ``` Quotes(\"\") ``` and numbers directly."
   ]
  },
  {
   "cell_type": "code",
   "execution_count": 1,
   "metadata": {},
   "outputs": [
    {
     "name": "stdout",
     "output_type": "stream",
     "text": [
      "[] []\n"
     ]
    }
   ],
   "source": [
    "l1 = list()\n",
    "l2 = []\n",
    "print(l1, l2) #The output is an empty list"
   ]
  },
  {
   "cell_type": "code",
   "execution_count": 2,
   "metadata": {},
   "outputs": [
    {
     "data": {
      "text/plain": [
       "['String', 1, 2, 'Another String']"
      ]
     },
     "execution_count": 2,
     "metadata": {},
     "output_type": "execute_result"
    }
   ],
   "source": [
    "l1 = ['String', 1,2,'Another String']\n",
    "l1"
   ]
  },
  {
   "attachments": {
    "Index.png": {
     "image/png": "[encoded data removed]"
    }
   },
   "cell_type": "markdown",
   "metadata": {},
   "source": [
    "### Key Features\n",
    "A list is indexed by positive numbers starting from 0. <br>\n",
    "Hence the first element of the list will have a index of ```0``` and the last element will have the index ``` len(list) - 1 ```\n",
    "<br>\n",
    "Note: The last element also has index of -1.\n",
    "![Index.png](attachment:Index.png)"
   ]
  },
  {
   "cell_type": "markdown",
   "metadata": {},
   "source": [
    "### List Operations\n",
    "1. Append : Adding a value at the end of the list ``` l.append(value) ```\n",
    "2. Insert : Adding a value at any specified index ``` l.insert(index, value) ```\n",
    "3. Pop : Removes the value at the index specified, if not removes the  last element ``` l.pop(index) ```\n",
    "4. Remove : Removes the first occurance of the value specified ``` l.remove(value) ```\n",
    "5. Index : Returns the index of the first occurance of the value specified ``` l.index(value) ```\n",
    "6. Insertion using index: Insert any value using the index ``` l[index] = value ```"
   ]
  },
  {
   "cell_type": "code",
   "execution_count": 3,
   "metadata": {},
   "outputs": [
    {
     "name": "stdout",
     "output_type": "stream",
     "text": [
      "['p', 'y', 't', 'h']\n",
      "['p', 'y', 't', 'h', 'o', 'n']\n",
      "[1, 2, 3, [2, 3, 4]]\n"
     ]
    }
   ],
   "source": [
    "#Append\n",
    "l = ['p','y','t','h']\n",
    "print(l)\n",
    "l.append('o')\n",
    "l.append('n')\n",
    "print(l)\n",
    "# NOTE - you can only append one value a time or an inner list\n",
    "l1 = [1,2,3]\n",
    "l1.append([2,3,4])\n",
    "print(l1)"
   ]
  },
  {
   "cell_type": "code",
   "execution_count": 4,
   "metadata": {},
   "outputs": [
    {
     "name": "stdout",
     "output_type": "stream",
     "text": [
      "['y', 't', 'o', 'n']\n",
      "['p', 'y', 't', 'h', 'o', 'n']\n"
     ]
    }
   ],
   "source": [
    "#Insert\n",
    "l = ['y','t','o','n']\n",
    "print(l)\n",
    "l.insert(0,'p')\n",
    "l.insert(3,'h')\n",
    "print(l)"
   ]
  },
  {
   "cell_type": "code",
   "execution_count": 5,
   "metadata": {},
   "outputs": [
    {
     "data": {
      "text/plain": [
       "['p', 'y', 't', 'h', 'o', 'n']"
      ]
     },
     "execution_count": 5,
     "metadata": {},
     "output_type": "execute_result"
    }
   ],
   "source": [
    "#Pop\n",
    "l = ['p', 'y', 't', 'h', 'o', 'n',1]\n",
    "l\n",
    "l.pop(-1)\n",
    "l"
   ]
  },
  {
   "cell_type": "code",
   "execution_count": 6,
   "metadata": {},
   "outputs": [
    {
     "name": "stdout",
     "output_type": "stream",
     "text": [
      "['a', 'a', 'b', 'c']\n",
      "['a', 'b', 'c']\n"
     ]
    }
   ],
   "source": [
    "#Remove\n",
    "l = ['a','a','b','c']\n",
    "print(l)\n",
    "l.remove('a')\n",
    "print(l)"
   ]
  },
  {
   "cell_type": "code",
   "execution_count": 8,
   "metadata": {},
   "outputs": [
    {
     "data": {
      "text/plain": [
       "2"
      ]
     },
     "execution_count": 8,
     "metadata": {},
     "output_type": "execute_result"
    }
   ],
   "source": [
    "#Index\n",
    "l = ['a','a','b','c']\n",
    "l.index('b')"
   ]
  },
  {
   "cell_type": "code",
   "execution_count": 10,
   "metadata": {},
   "outputs": [
    {
     "name": "stdout",
     "output_type": "stream",
     "text": [
      "['p', 'y', 't', 'a', 'o', 'n']\n",
      "['p', 'y', 't', 'h', 'o', 'n']\n"
     ]
    }
   ],
   "source": [
    "l = ['p', 'y', 't', 'a', 'o', 'n']\n",
    "print(l)\n",
    "l[3] = 'h'\n",
    "print(l)"
   ]
  }
 ],
 "metadata": {
  "kernelspec": {
   "display_name": "Python 3",
   "language": "python",
   "name": "python3"
  },
  "language_info": {
   "codemirror_mode": {
    "name": "ipython",
    "version": 3
   },
   "file_extension": ".py",
   "mimetype": "text/x-python",
   "name": "python",
   "nbconvert_exporter": "python",
   "pygments_lexer": "ipython3",
   "version": "3.7.4"
  }
 },
 "nbformat": 4,
 "nbformat_minor": 2
}
