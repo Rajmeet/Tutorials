{
 "cells": [
  {
   "cell_type": "code",
   "execution_count": 1,
   "metadata": {},
   "outputs": [],
   "source": [
    "#STACKS - LIFO\n",
    "#QUEUES - FIFO"
   ]
  },
  {
   "cell_type": "code",
   "execution_count": 2,
   "metadata": {},
   "outputs": [
    {
     "ename": "SyntaxError",
     "evalue": "invalid syntax (<ipython-input-2-5e6782ffd286>, line 15)",
     "output_type": "error",
     "traceback": [
      "\u001b[1;36m  File \u001b[1;32m\"<ipython-input-2-5e6782ffd286>\"\u001b[1;36m, line \u001b[1;32m15\u001b[0m\n\u001b[1;33m    return if self.queue == []\u001b[0m\n\u001b[1;37m            ^\u001b[0m\n\u001b[1;31mSyntaxError\u001b[0m\u001b[1;31m:\u001b[0m invalid syntax\n"
     ]
    }
   ],
   "source": [
    "class queue:\n",
    "    def __init__(self):\n",
    "        self.queue = []\n",
    "    \n",
    "    def enqueue(self, item):\n",
    "        self.queue.append(item)\n",
    "    \n",
    "    def dequeue(self):\n",
    "        self.queue.pop(0)\n",
    "    \n",
    "    def peek(self):\n",
    "        return self.queue[0]\n",
    "    \n",
    "    def isEmpty(self):\n",
    "        return if self.queue == []\n",
    "\n",
    "    def display(self):\n",
    "        return self.queue\n",
    "    \n",
    "q = queue()\n",
    "q.enqueue(\"Thapa\")\n",
    "q.enqueue(\"Rajmeet\")\n",
    "q.display()    "
   ]
  },
  {
   "cell_type": "code",
   "execution_count": null,
   "metadata": {},
   "outputs": [],
   "source": [
    "\"\""
   ]
  }
 ],
 "metadata": {
  "kernelspec": {
   "display_name": "Python 3",
   "language": "python",
   "name": "python3"
  },
  "language_info": {
   "codemirror_mode": {
    "name": "ipython",
    "version": 3
   },
   "file_extension": ".py",
   "mimetype": "text/x-python",
   "name": "python",
   "nbconvert_exporter": "python",
   "pygments_lexer": "ipython3",
   "version": "3.7.3"
  }
 },
 "nbformat": 4,
 "nbformat_minor": 2
}
