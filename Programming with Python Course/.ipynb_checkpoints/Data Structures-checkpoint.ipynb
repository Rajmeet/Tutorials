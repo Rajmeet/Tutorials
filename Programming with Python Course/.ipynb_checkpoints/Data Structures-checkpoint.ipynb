{
 "cells": [
  {
   "cell_type": "code",
   "execution_count": 1,
   "metadata": {},
   "outputs": [
    {
     "name": "stdout",
     "output_type": "stream",
     "text": [
      "(5, 5)\n"
     ]
    }
   ],
   "source": [
    "#Linear Search Algorithm\n",
    "def LinearSearch(ar, item):\n",
    "    i = 0\n",
    "    for i in range(len(ar)):\n",
    "        if ar[i] == item:\n",
    "            pos = ar.index(item)\n",
    "            return pos,i\n",
    "\n",
    "    return -1\n",
    "\n",
    "ar = [0,1,2,3,4,5,6,7,8]\n",
    "item = 5\n",
    "print(LinearSearch(ar, item))"
   ]
  },
  {
   "cell_type": "code",
   "execution_count": 3,
   "metadata": {},
   "outputs": [
    {
     "name": "stdout",
     "output_type": "stream",
     "text": [
      "('Found element', 4)\n"
     ]
    }
   ],
   "source": [
    "#Binary Search Algorithm\n",
    "def BinarySearch(ar, item):\n",
    "    beg = 0\n",
    "    last = len(ar) - 1\n",
    "    mid = len(ar)//2\n",
    "    for i in range(len(ar)):\n",
    "        if item == ar[mid]:\n",
    "            return \"Found element\", mid\n",
    "            break\n",
    "        elif item > ar[mid]:\n",
    "            beg = mid + 1\n",
    "        else:\n",
    "            last = mid - 1\n",
    "    else:\n",
    "        return False\n",
    "ar = [0,1,2,3,4,5,6,7,8]\n",
    "item = 4\n",
    "print(BinarySearch(ar, item))"
   ]
  },
  {
   "cell_type": "code",
   "execution_count": 14,
   "metadata": {},
   "outputs": [
    {
     "name": "stdout",
     "output_type": "stream",
     "text": [
      "[0, 1, 1, 2, 3, 4, 5, 5, 6, 7, 7]\n",
      "[0, 1, 1, 2, 3, 4, 4, 5, 5, 6, 7, 7]\n"
     ]
    }
   ],
   "source": [
    "#Insertion using Bisect\n",
    "import bisect\n",
    "ar = [0,3,5,6,7,1,5,7,1,2,4]\n",
    "ar.sort()\n",
    "print(ar)\n",
    "bisect.insort(ar, 4)\n",
    "print(ar)"
   ]
  },
  {
   "cell_type": "code",
   "execution_count": 23,
   "metadata": {},
   "outputs": [
    {
     "name": "stdout",
     "output_type": "stream",
     "text": [
      "False\n"
     ]
    }
   ],
   "source": [
    "#Deletion of Elements\n",
    "def BinarySearch(ar, item):\n",
    "    beg = 0\n",
    "    last = len(ar) - 1\n",
    "    mid = len(ar)//2\n",
    "    for i in range(len(ar)):\n",
    "        if item == ar[mid]:\n",
    "            return \"Found element\", mid\n",
    "            break\n",
    "        elif item > ar[mid]:\n",
    "            beg = mid + 1\n",
    "        else:\n",
    "            last = mid - 1\n",
    "    else:\n",
    "        return -1\n",
    "ar = [0,3,43,2,3,5,6,1,8,10,32321]\n",
    "item = 1\n",
    "print(BinarySearch(ar, item))"
   ]
  },
  {
   "cell_type": "code",
   "execution_count": null,
   "metadata": {},
   "outputs": [],
   "source": []
  }
 ],
 "metadata": {
  "kernelspec": {
   "display_name": "Python 3",
   "language": "python",
   "name": "python3"
  },
  "language_info": {
   "codemirror_mode": {
    "name": "ipython",
    "version": 3
   },
   "file_extension": ".py",
   "mimetype": "text/x-python",
   "name": "python",
   "nbconvert_exporter": "python",
   "pygments_lexer": "ipython3",
   "version": "3.7.3"
  }
 },
 "nbformat": 4,
 "nbformat_minor": 2
}
