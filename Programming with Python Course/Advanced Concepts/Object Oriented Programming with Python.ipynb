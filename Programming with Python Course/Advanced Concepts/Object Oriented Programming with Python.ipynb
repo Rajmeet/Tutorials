{
 "cells": [
  {
   "cell_type": "markdown",
   "metadata": {},
   "source": [
    "## 1. Classes and Instances"
   ]
  },
  {
   "cell_type": "markdown",
   "metadata": {},
   "source": [
    "#### A class is the blueprint for creating objects/instances in programming.\n",
    "To create a class in python: \n",
    "``` class {class_name}:```"
   ]
  },
  {
   "cell_type": "markdown",
   "metadata": {},
   "source": [
    "Let us take the example of a company with employees. \n",
    "Now Employees refer to a group of people and a single person belongs to that group. Hence the Class would be Employee and the poeple of the company with be the objects to the employee class"
   ]
  },
  {
   "cell_type": "code",
   "execution_count": 71,
   "metadata": {},
   "outputs": [],
   "source": [
    "class Test:\n",
    "    pass"
   ]
  },
  {
   "cell_type": "markdown",
   "metadata": {},
   "source": [
    "#### The __init__ method\n",
    "The ```__init__``` method in python, better understood by Constructor method in other languages is used for initializing the creation of instances of the class. __self__ argument passed which refers to the current instance of the class."
   ]
  },
  {
   "cell_type": "code",
   "execution_count": 72,
   "metadata": {},
   "outputs": [],
   "source": [
    "class Employee:\n",
    "    '''Making a class which can take name, last name and generate an email (This is a doc-string)'''\n",
    "    def __init__(self,fname,lname):\n",
    "        self.fname = fname\n",
    "        self.lname = lname\n",
    "        self.email = fname + \".\" + lname + \"@gmail.com\"\n",
    "        \n",
    "    def fullname(self):\n",
    "        return ('{} {}'.format(self.fname, self.lname))"
   ]
  },
  {
   "cell_type": "code",
   "execution_count": 73,
   "metadata": {},
   "outputs": [
    {
     "data": {
      "text/plain": [
       "'Test User'"
      ]
     },
     "execution_count": 73,
     "metadata": {},
     "output_type": "execute_result"
    }
   ],
   "source": [
    "emp1 = Employee(\"Test\", \"User\")\n",
    "emp1.email.lower() #.lower() to make it an email\n",
    "emp1.fullname()"
   ]
  },
  {
   "cell_type": "code",
   "execution_count": 74,
   "metadata": {},
   "outputs": [
    {
     "name": "stdout",
     "output_type": "stream",
     "text": [
      "Test1 User\n",
      "test2.user@gmail.com\n"
     ]
    }
   ],
   "source": [
    "emp2 = Employee(\"Test1\", \"User\")\n",
    "emp3 = Employee(\"Test2\", \"User\")\n",
    "print(emp2.fullname())\n",
    "print(emp3.email.lower())"
   ]
  },
  {
   "cell_type": "markdown",
   "metadata": {},
   "source": [
    "#### Some Built-in Attributes"
   ]
  },
  {
   "cell_type": "code",
   "execution_count": 75,
   "metadata": {},
   "outputs": [
    {
     "name": "stdout",
     "output_type": "stream",
     "text": [
      "{'fname': 'Test', 'lname': 'User', 'email': 'Test.User@gmail.com'} \n",
      "\n",
      "Making a class which can take name, last name and generate an email (This is a doc-string) \n",
      "\n",
      "Employee \n",
      "\n",
      "__main__\n"
     ]
    }
   ],
   "source": [
    "print(emp1.__dict__,\"\\n\") #Prints a dictionary containing the namespace\n",
    "print(Employee.__doc__,\"\\n\") #Prints the doc-string\n",
    "print(Employee.__name__, \"\\n\") #Prints the class name\n",
    "print(emp1.__module__) #Prints the module name"
   ]
  },
  {
   "cell_type": "markdown",
   "metadata": {},
   "source": [
    "-------------------------------------------------\n",
    "\n",
    "## 2. Class Variables"
   ]
  },
  {
   "cell_type": "code",
   "execution_count": null,
   "metadata": {},
   "outputs": [],
   "source": []
  },
  {
   "cell_type": "code",
   "execution_count": null,
   "metadata": {},
   "outputs": [],
   "source": []
  },
  {
   "cell_type": "code",
   "execution_count": null,
   "metadata": {},
   "outputs": [],
   "source": []
  }
 ],
 "metadata": {
  "kernelspec": {
   "display_name": "Python 3",
   "language": "python",
   "name": "python3"
  },
  "language_info": {
   "codemirror_mode": {
    "name": "ipython",
    "version": 3
   },
   "file_extension": ".py",
   "mimetype": "text/x-python",
   "name": "python",
   "nbconvert_exporter": "python",
   "pygments_lexer": "ipython3",
   "version": "3.7.4"
  }
 },
 "nbformat": 4,
 "nbformat_minor": 2
}
