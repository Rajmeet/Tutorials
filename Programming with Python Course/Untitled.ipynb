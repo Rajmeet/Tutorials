{
 "cells": [
  {
   "cell_type": "code",
   "execution_count": null,
   "metadata": {},
   "outputs": [],
   "source": [
    "print(' Integer:',a,'\\n','Floating Point:',b,'\\n','Complex:',c, 'real:',c.real, 'imag:',c.imag)"
   ]
  },
  {
   "cell_type": "code",
   "execution_count": 10,
   "metadata": {},
   "outputs": [
    {
     "name": "stdout",
     "output_type": "stream",
     "text": [
      "My name is Rajmeet and my age is 18\n"
     ]
    }
   ],
   "source": [
    "name = \"Rajmeet\"\n",
    "age = 18\n",
    "print(\"My name is\", name, \"and my age is\", age)"
   ]
  },
  {
   "cell_type": "code",
   "execution_count": 13,
   "metadata": {},
   "outputs": [
    {
     "ename": "IndexError",
     "evalue": "list index out of range",
     "output_type": "error",
     "traceback": [
      "\u001b[1;31m---------------------------------------------------------------------------\u001b[0m",
      "\u001b[1;31mIndexError\u001b[0m                                Traceback (most recent call last)",
      "\u001b[1;32m<ipython-input-13-66ee5c5fd7ca>\u001b[0m in \u001b[0;36m<module>\u001b[1;34m\u001b[0m\n\u001b[0;32m      1\u001b[0m \u001b[0mnames\u001b[0m \u001b[1;33m=\u001b[0m \u001b[1;33m[\u001b[0m\u001b[1;34m\"Rajmeet\"\u001b[0m\u001b[1;33m,\u001b[0m \u001b[1;34m\"Prerna\"\u001b[0m\u001b[1;33m]\u001b[0m\u001b[1;33m\u001b[0m\u001b[1;33m\u001b[0m\u001b[0m\n\u001b[1;32m----> 2\u001b[1;33m \u001b[0mprint\u001b[0m\u001b[1;33m(\u001b[0m\u001b[0mnames\u001b[0m\u001b[1;33m[\u001b[0m\u001b[1;36m2\u001b[0m\u001b[1;33m]\u001b[0m\u001b[1;33m)\u001b[0m\u001b[1;33m\u001b[0m\u001b[1;33m\u001b[0m\u001b[0m\n\u001b[0m",
      "\u001b[1;31mIndexError\u001b[0m: list index out of range"
     ]
    }
   ],
   "source": [
    "names = [\"Rajmeet\", \"Prerna\"]\n",
    "print(names[2])"
   ]
  },
  {
   "cell_type": "code",
   "execution_count": 14,
   "metadata": {},
   "outputs": [
    {
     "data": {
      "text/plain": [
       "'b'"
      ]
     },
     "execution_count": 14,
     "metadata": {},
     "output_type": "execute_result"
    }
   ],
   "source": [
    "d = {1: 'a', 2: 'b', 3: 'c'}\n",
    "d[2]"
   ]
  },
  {
   "cell_type": "code",
   "execution_count": 21,
   "metadata": {},
   "outputs": [
    {
     "name": "stdout",
     "output_type": "stream",
     "text": [
      "1\n"
     ]
    }
   ],
   "source": [
    "print(50%7)"
   ]
  },
  {
   "cell_type": "code",
   "execution_count": 23,
   "metadata": {},
   "outputs": [
    {
     "name": "stdout",
     "output_type": "stream",
     "text": [
      "64\n"
     ]
    }
   ],
   "source": [
    "print(2**6)"
   ]
  },
  {
   "cell_type": "code",
   "execution_count": 25,
   "metadata": {},
   "outputs": [
    {
     "name": "stdout",
     "output_type": "stream",
     "text": [
      "2\n"
     ]
    }
   ],
   "source": [
    "print(5//2)"
   ]
  },
  {
   "cell_type": "code",
   "execution_count": 26,
   "metadata": {},
   "outputs": [
    {
     "name": "stdout",
     "output_type": "stream",
     "text": [
      "5\n"
     ]
    }
   ],
   "source": [
    "a = 2\n",
    "a += 3 # a = 2 + 3\n",
    "print(a)"
   ]
  },
  {
   "cell_type": "code",
   "execution_count": 35,
   "metadata": {},
   "outputs": [
    {
     "name": "stdout",
     "output_type": "stream",
     "text": [
      "False\n"
     ]
    }
   ],
   "source": [
    "l = ['hi', 'hello', 'hey', 'hola']\n",
    "print('hi' is not 'hi')"
   ]
  },
  {
   "cell_type": "code",
   "execution_count": 36,
   "metadata": {},
   "outputs": [
    {
     "name": "stdout",
     "output_type": "stream",
     "text": [
      "Whats your age18\n",
      "18\n"
     ]
    }
   ],
   "source": [
    "age = int(input(\"Whats your age: \"))\n",
    "print(age)"
   ]
  },
  {
   "cell_type": "code",
   "execution_count": 37,
   "metadata": {},
   "outputs": [
    {
     "name": "stdout",
     "output_type": "stream",
     "text": [
      "16\n"
     ]
    }
   ],
   "source": [
    "side = 4\n",
    "area = side * side\n",
    "print(area)"
   ]
  },
  {
   "cell_type": "code",
   "execution_count": 3,
   "metadata": {},
   "outputs": [
    {
     "name": "stdout",
     "output_type": "stream",
     "text": [
      "principal: 5\n",
      "rate: 2\n",
      "time: 3\n",
      "Principal Rate = 0.3\n"
     ]
    }
   ],
   "source": [
    "p = int(input('principal: '))\n",
    "r = int(input('rate: '))\n",
    "t = int(input('time: '))\n",
    "result = (p*r*t)/100\n",
    "print(\"Principal Rate =\", result)"
   ]
  },
  {
   "cell_type": "code",
   "execution_count": 9,
   "metadata": {},
   "outputs": [
    {
     "name": "stdout",
     "output_type": "stream",
     "text": [
      "Enter a number0\n",
      "Number is zero\n"
     ]
    }
   ],
   "source": [
    "x = int(input('Enter a number'))\n",
    "if x > 0:\n",
    "    print(\"Positive\")\n",
    "elif x == 0:\n",
    "    print(\"Number is zero\")\n",
    "else:\n",
    "    print(\"Negative\")"
   ]
  },
  {
   "cell_type": "code",
   "execution_count": 10,
   "metadata": {},
   "outputs": [],
   "source": [
    "# WAP to compare two numbers and check which one is bigger\n",
    "# WAP to check whether a number whether the number is even or not\n",
    "# WAP to check whether you have fever or not\n",
    "# Grading System implementation\n",
    "# Create an calculator\n",
    "# Create a random number generator game"
   ]
  },
  {
   "cell_type": "code",
   "execution_count": 1,
   "metadata": {},
   "outputs": [],
   "source": [
    "# CALCULATOR YEEEEEEEE"
   ]
  },
  {
   "cell_type": "code",
   "execution_count": 2,
   "metadata": {},
   "outputs": [
    {
     "name": "stdout",
     "output_type": "stream",
     "text": [
      "Enter first number: 177\n",
      "Enter second number: 771\n",
      "Enter operation you want to perform: (+, -,*,/) /\n",
      "0.22957198443579765\n"
     ]
    }
   ],
   "source": [
    "num1 = int(input(\"Enter first number: \"))\n",
    "num2 = int(input(\"Enter second number: \"))\n",
    "choice = input(\"Enter operation you want to perform: (+, -,*,/) \")\n",
    "\n",
    "if choice == \"+\":\n",
    "    print(num1+num2)\n",
    "\n",
    "elif choice == \"-\":\n",
    "    print(num1-num2)\n",
    "\n",
    "elif choice == \"*\":\n",
    "    print(num1*num2)\n",
    "\n",
    "elif choice == \"/\":\n",
    "    print(num1/num2)\n",
    "\n",
    "else:\n",
    "    print(\"Invalid operation\")"
   ]
  },
  {
   "cell_type": "code",
   "execution_count": 4,
   "metadata": {},
   "outputs": [
    {
     "name": "stdout",
     "output_type": "stream",
     "text": [
      "Enter x: 4\n",
      "24\n"
     ]
    }
   ],
   "source": [
    "import math\n",
    "x = int(input(\"Enter x: \"))\n",
    "print(math.factorial(x))"
   ]
  },
  {
   "cell_type": "code",
   "execution_count": 14,
   "metadata": {
    "scrolled": true
   },
   "outputs": [
    {
     "name": "stdout",
     "output_type": "stream",
     "text": [
      "Enter a number: 8\n",
      "8\n",
      "WINNER\n"
     ]
    }
   ],
   "source": [
    "import random\n",
    "mynumber = int(input('Enter a number: '))\n",
    "magic_number = random.randint(1,10)\n",
    "print(magic_number)\n",
    "if mynumber == magic_number:\n",
    "    print('WINNER')\n",
    "else:\n",
    "    print('Loser')"
   ]
  },
  {
   "cell_type": "code",
   "execution_count": 18,
   "metadata": {},
   "outputs": [
    {
     "name": "stdout",
     "output_type": "stream",
     "text": [
      "EdDuo\n",
      "Study Abroad\n",
      "Fun\n"
     ]
    }
   ],
   "source": [
    "variable = ['EdDuo', 'Study Abroad','Fun']\n",
    "#for i in variable:\n",
    "#    print(i)\n",
    "i = 0\n",
    "choice = True\n",
    "while choice:\n",
    "    print(variable[i])\n",
    "    i += 1 \n",
    "    if i == 2:\n",
    "        choice = False"
   ]
  },
  {
   "cell_type": "code",
   "execution_count": 29,
   "metadata": {},
   "outputs": [
    {
     "name": "stdout",
     "output_type": "stream",
     "text": [
      "Rajmeet\n",
      "Prerna\n",
      "Rajmeet\n",
      "HI\n",
      "['Rajmeet', 'HI']\n"
     ]
    }
   ],
   "source": [
    "names = [\"Rajmeet\",\"Prerna\"]\n",
    "for name in names:\n",
    "    print(name)\n",
    "names[1] = \"HI\"\n",
    "for name in names:\n",
    "    print(name)\n",
    "print(names)"
   ]
  },
  {
   "cell_type": "code",
   "execution_count": 39,
   "metadata": {},
   "outputs": [
    {
     "name": "stdout",
     "output_type": "stream",
     "text": [
      "2\n",
      "Rajmeet\n",
      "Prerna\n",
      "2\n",
      "Rajmeet\n",
      "Prerna\n"
     ]
    }
   ],
   "source": [
    "names = [\"Rajmeet\",\"Prerna\"]\n",
    "print(len(names))\n",
    "for name in names:\n",
    "    print(name)\n",
    "print(len(names))\n",
    "for i in range(0,len(names)):\n",
    "    print(names[i])"
   ]
  },
  {
   "cell_type": "code",
   "execution_count": 40,
   "metadata": {},
   "outputs": [
    {
     "name": "stdout",
     "output_type": "stream",
     "text": [
      "Name: Rajmeet\n",
      "Rajmeet\n",
      "Name: Prerna\n",
      "Prerna\n",
      "Name: Idk\n",
      "Idk\n"
     ]
    }
   ],
   "source": [
    "for i in range(3):\n",
    "    n = input(\"Name: \")\n",
    "    print(n)"
   ]
  },
  {
   "cell_type": "code",
   "execution_count": 44,
   "metadata": {},
   "outputs": [
    {
     "ename": "SyntaxError",
     "evalue": "invalid syntax (<ipython-input-44-cf3681793e45>, line 9)",
     "output_type": "error",
     "traceback": [
      "\u001b[1;36m  File \u001b[1;32m\"<ipython-input-44-cf3681793e45>\"\u001b[1;36m, line \u001b[1;32m9\u001b[0m\n\u001b[1;33m    else:\u001b[0m\n\u001b[1;37m       ^\u001b[0m\n\u001b[1;31mSyntaxError\u001b[0m\u001b[1;31m:\u001b[0m invalid syntax\n"
     ]
    }
   ],
   "source": [
    "import random\n",
    "magic_number = random.randint(1,10)\n",
    "tries = 3\n",
    "while tries > 0:\n",
    "    mynumber = int(input('Enter a number: '))\n",
    "    if mynumber == magic_number:\n",
    "        print('WINNER')\n",
    "    tries = tries - 1 #tries-=1\n",
    "    else:\n",
    "        print(\"Incorrect, you have\", tries, \"left\")\n",
    "else:\n",
    "    print('Loser')"
   ]
  },
  {
   "cell_type": "code",
   "execution_count": 4,
   "metadata": {},
   "outputs": [
    {
     "name": "stdout",
     "output_type": "stream",
     "text": [
      "Enter a number: 4\n",
      "Incorrect, you have 2 left\n",
      "Enter a number: 5\n",
      "Incorrect, you have 1 left\n",
      "Enter a number: 3\n",
      "Incorrect, you have 0 left\n",
      "L\n",
      "O\n",
      "S\n",
      "E\n",
      "R\n",
      "9\n"
     ]
    }
   ],
   "source": [
    "import random\n",
    "magic_number = random.randint(1,10)\n",
    "tries = 3\n",
    "while tries > 0:\n",
    "    mynumber = int(input('Enter a number: '))\n",
    "    if mynumber == magic_number:\n",
    "        print('WINNER')\n",
    "    else:\n",
    "        tries = tries - 1 #tries -= 1\n",
    "        print(\"Incorrect, you have\", tries, \"left\")\n",
    "\n",
    "else:\n",
    "    for i in 'LOSER':\n",
    "        print(i)\n",
    "    print(magic_number)"
   ]
  },
  {
   "cell_type": "code",
   "execution_count": 6,
   "metadata": {},
   "outputs": [
    {
     "name": "stdout",
     "output_type": "stream",
     "text": [
      "0 0\n",
      "0 1\n",
      "1 0\n",
      "1 1\n"
     ]
    }
   ],
   "source": [
    "for i in range(0,2):\n",
    "    for j in range(0, 2):\n",
    "        print(i,j)"
   ]
  },
  {
   "cell_type": "code",
   "execution_count": 9,
   "metadata": {
    "scrolled": true
   },
   "outputs": [
    {
     "name": "stdout",
     "output_type": "stream",
     "text": [
      "0\n",
      "-1\n",
      "-2\n",
      "-3\n",
      "-4\n"
     ]
    }
   ],
   "source": [
    "for i in range(5,0,-1):\n",
    "    print(i)"
   ]
  },
  {
   "cell_type": "code",
   "execution_count": null,
   "metadata": {},
   "outputs": [],
   "source": [
    "you are lagging cant "
   ]
  }
 ],
 "metadata": {
  "kernelspec": {
   "display_name": "Python 3",
   "language": "python",
   "name": "python3"
  },
  "language_info": {
   "codemirror_mode": {
    "name": "ipython",
    "version": 3
   },
   "file_extension": ".py",
   "mimetype": "text/x-python",
   "name": "python",
   "nbconvert_exporter": "python",
   "pygments_lexer": "ipython3",
   "version": "3.7.4"
  }
 },
 "nbformat": 4,
 "nbformat_minor": 2
}
